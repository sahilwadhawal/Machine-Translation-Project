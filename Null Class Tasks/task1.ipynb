{
 "cells": [
  {
   "cell_type": "code",
   "execution_count": 6,
   "metadata": {},
   "outputs": [],
   "source": [
    "from tensorflow.keras.preprocessing.text import tokenizer_from_json\n",
    "import json\n",
    "\n",
    "# Load the tokenizer from the JSON file\n",
    "with open('../eng_tokenizer.json', 'r') as file:\n",
    "    tokenizer_json = json.load(file)\n",
    "    tokenizer = tokenizer_from_json(tokenizer_json)\n"
   ]
  },
  {
   "cell_type": "code",
   "execution_count": 10,
   "metadata": {},
   "outputs": [
    {
     "name": "stdout",
     "output_type": "stream",
     "text": [
      "Input sequence before padding: [[8]]\n"
     ]
    },
    {
     "ename": "NameError",
     "evalue": "name 'max_seq_length' is not defined",
     "output_type": "error",
     "traceback": [
      "\u001b[1;31m---------------------------------------------------------------------------\u001b[0m",
      "\u001b[1;31mNameError\u001b[0m                                 Traceback (most recent call last)",
      "Cell \u001b[1;32mIn[10], line 23\u001b[0m\n\u001b[0;32m     20\u001b[0m \u001b[38;5;28mprint\u001b[39m(\u001b[38;5;124mf\u001b[39m\u001b[38;5;124m\"\u001b[39m\u001b[38;5;124mInput sequence before padding: \u001b[39m\u001b[38;5;132;01m{\u001b[39;00minput_seq\u001b[38;5;132;01m}\u001b[39;00m\u001b[38;5;124m\"\u001b[39m)\n\u001b[0;32m     22\u001b[0m \u001b[38;5;66;03m# Pad the sequence\u001b[39;00m\n\u001b[1;32m---> 23\u001b[0m input_seq \u001b[38;5;241m=\u001b[39m tf\u001b[38;5;241m.\u001b[39mkeras\u001b[38;5;241m.\u001b[39mpreprocessing\u001b[38;5;241m.\u001b[39msequence\u001b[38;5;241m.\u001b[39mpad_sequences(input_seq, maxlen\u001b[38;5;241m=\u001b[39m\u001b[43mmax_seq_length\u001b[49m, padding\u001b[38;5;241m=\u001b[39m\u001b[38;5;124m'\u001b[39m\u001b[38;5;124mpost\u001b[39m\u001b[38;5;124m'\u001b[39m)\n\u001b[0;32m     25\u001b[0m \u001b[38;5;66;03m# Debug: Print input sequence shape after padding\u001b[39;00m\n\u001b[0;32m     26\u001b[0m \u001b[38;5;28mprint\u001b[39m(\u001b[38;5;124mf\u001b[39m\u001b[38;5;124m\"\u001b[39m\u001b[38;5;124mInput sequence shape after padding: \u001b[39m\u001b[38;5;132;01m{\u001b[39;00minput_seq\u001b[38;5;241m.\u001b[39mshape\u001b[38;5;132;01m}\u001b[39;00m\u001b[38;5;124m\"\u001b[39m)\n",
      "\u001b[1;31mNameError\u001b[0m: name 'max_seq_length' is not defined"
     ]
    }
   ],
   "source": [
    "import tensorflow as tf\n",
    "from tensorflow.keras.models import load_model\n",
    "from tensorflow.keras.preprocessing.text import tokenizer_from_json\n",
    "import numpy as np\n",
    "import json\n",
    "\n",
    "# Load the pre-trained LSTM model\n",
    "model = load_model('../transformer_model/')\n",
    "\n",
    "# Load the tokenizer from the JSON file\n",
    "with open('../eng_tokenizer.json', 'r') as file:\n",
    "    tokenizer_json = json.load(file)\n",
    "    tokenizer = tokenizer_from_json(tokenizer_json)\n",
    "\n",
    "# Prepare the input sentence\n",
    "input_sentence = \"Your input sentence here\"\n",
    "input_seq = tokenizer.texts_to_sequences([input_sentence])\n",
    "\n",
    "# Debug: Print input sequence before padding\n",
    "print(f\"Input sequence before padding: {input_seq}\")\n",
    "\n",
    "# Pad the sequence\n",
    "input_seq = tf.keras.preprocessing.sequence.pad_sequences(input_seq, maxlen=max_seq_length, padding='post')\n",
    "\n",
    "# Debug: Print input sequence shape after padding\n",
    "print(f\"Input sequence shape after padding: {input_seq.shape}\")\n",
    "\n",
    "# Translate the sentence\n",
    "try:\n",
    "    output_seq = model.predict(input_seq)\n",
    "    output_seq = np.argmax(output_seq, axis=-1)\n",
    "\n",
    "    # Decode the output sequence\n",
    "    output_sentence = tokenizer.sequences_to_texts(output_seq)\n",
    "    output_sentence = output_sentence[0]  # Convert list to string\n",
    "\n",
    "    print(f\"Translated Sentence: {output_sentence}\")\n",
    "except Exception as e:\n",
    "    print(f\"An error occurred: {e}\")\n"
   ]
  },
  {
   "cell_type": "code",
   "execution_count": 13,
   "metadata": {},
   "outputs": [
    {
     "name": "stdout",
     "output_type": "stream",
     "text": [
      "Model input shape: [(None, None), (None, None)]\n",
      "Inferred max_seq_length: None, type: <class 'NoneType'>\n",
      "Input sequence before padding: [[8]]\n",
      "Input sequence shape after padding: (1, 1)\n",
      "An error occurred: in user code:\n",
      "\n",
      "    File \"c:\\Users\\sahil\\anaconda3\\envs\\nullclass1\\lib\\site-packages\\keras\\engine\\training.py\", line 2041, in predict_function  *\n",
      "        return step_function(self, iterator)\n",
      "    File \"c:\\Users\\sahil\\anaconda3\\envs\\nullclass1\\lib\\site-packages\\keras\\engine\\training.py\", line 2027, in step_function  **\n",
      "        outputs = model.distribute_strategy.run(run_step, args=(data,))\n",
      "    File \"c:\\Users\\sahil\\anaconda3\\envs\\nullclass1\\lib\\site-packages\\keras\\engine\\training.py\", line 2015, in run_step  **\n",
      "        outputs = model.predict_step(data)\n",
      "    File \"c:\\Users\\sahil\\anaconda3\\envs\\nullclass1\\lib\\site-packages\\keras\\engine\\training.py\", line 1983, in predict_step\n",
      "        return self(x, training=False)\n",
      "    File \"c:\\Users\\sahil\\anaconda3\\envs\\nullclass1\\lib\\site-packages\\keras\\utils\\traceback_utils.py\", line 70, in error_handler\n",
      "        raise e.with_traceback(filtered_tb) from None\n",
      "    File \"c:\\Users\\sahil\\anaconda3\\envs\\nullclass1\\lib\\site-packages\\keras\\engine\\input_spec.py\", line 216, in assert_input_compatibility\n",
      "        raise ValueError(\n",
      "\n",
      "    ValueError: Layer \"transformer\" expects 2 input(s), but it received 1 input tensors. Inputs received: [<tf.Tensor 'IteratorGetNext:0' shape=(None, 1) dtype=int32>]\n",
      "\n"
     ]
    }
   ],
   "source": [
    "import tensorflow as tf\n",
    "from tensorflow.keras.models import load_model\n",
    "from tensorflow.keras.preprocessing.text import tokenizer_from_json\n",
    "import numpy as np\n",
    "import json\n",
    "\n",
    "# Step 1: Load the pre-trained LSTM model\n",
    "model = load_model('../transformer_model/')\n",
    "\n",
    "# Step 2: Load the tokenizer from the JSON file\n",
    "with open('../eng_tokenizer.json', 'r') as file:\n",
    "    tokenizer_json = json.load(file)\n",
    "    tokenizer = tokenizer_from_json(tokenizer_json)\n",
    "\n",
    "# Step 3: Define or infer max_seq_length\n",
    "input_shape = model.input_shape\n",
    "print(f\"Model input shape: {input_shape}\")\n",
    "\n",
    "# Extract max_seq_length, ensuring it's an integer\n",
    "max_seq_length = input_shape[1]\n",
    "if isinstance(max_seq_length, tuple):\n",
    "    max_seq_length = max_seq_length[0]  # Handle if max_seq_length is a tuple\n",
    "\n",
    "print(f\"Inferred max_seq_length: {max_seq_length}, type: {type(max_seq_length)}\")\n",
    "\n",
    "# Step 4: Prepare the input sentence\n",
    "input_sentence = \"Your input sentence here\"\n",
    "input_seq = tokenizer.texts_to_sequences([input_sentence])\n",
    "\n",
    "# Debug: Print input sequence before padding\n",
    "print(f\"Input sequence before padding: {input_seq}\")\n",
    "\n",
    "# Pad the sequence\n",
    "input_seq = tf.keras.preprocessing.sequence.pad_sequences(input_seq, maxlen=max_seq_length, padding='post')\n",
    "\n",
    "# Debug: Print input sequence shape after padding\n",
    "print(f\"Input sequence shape after padding: {input_seq.shape}\")\n",
    "\n",
    "# Step 5: Translate the sentence\n",
    "try:\n",
    "    output_seq = model.predict(input_seq)\n",
    "    output_seq = np.argmax(output_seq, axis=-1)\n",
    "\n",
    "    # Decode the output sequence\n",
    "    output_sentence = tokenizer.sequences_to_texts(output_seq)\n",
    "    output_sentence = output_sentence[0]  # Convert list to string\n",
    "\n",
    "    print(f\"Translated Sentence: {output_sentence}\")\n",
    "except Exception as e:\n",
    "    print(f\"An error occurred: {e}\")\n"
   ]
  },
  {
   "cell_type": "code",
   "execution_count": null,
   "metadata": {},
   "outputs": [],
   "source": []
  }
 ],
 "metadata": {
  "kernelspec": {
   "display_name": "nullclass1",
   "language": "python",
   "name": "python3"
  },
  "language_info": {
   "codemirror_mode": {
    "name": "ipython",
    "version": 3
   },
   "file_extension": ".py",
   "mimetype": "text/x-python",
   "name": "python",
   "nbconvert_exporter": "python",
   "pygments_lexer": "ipython3",
   "version": "3.9.18"
  }
 },
 "nbformat": 4,
 "nbformat_minor": 2
}
